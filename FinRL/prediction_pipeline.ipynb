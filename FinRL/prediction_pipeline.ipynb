{
 "cells": [
  {
   "cell_type": "code",
   "execution_count": 1,
   "metadata": {},
   "outputs": [],
   "source": [
    "# 각 시점마다 prediction 예측 후, n차원 형태로 미래 prediction 값을 제공해보자"
   ]
  },
  {
   "cell_type": "code",
   "execution_count": 33,
   "metadata": {},
   "outputs": [],
   "source": [
    "import pandas as pd\n",
    "import numpy as np\n",
    "import matplotlib\n",
    "import matplotlib.pyplot as plt\n",
    "import datetime\n",
    "from tqdm import tqdm\n",
    "\n",
    "%matplotlib inline\n",
    "from finrl.meta.preprocessor.yahoodownloader import YahooDownloader\n",
    "from finrl.meta.preprocessor.preprocessors import FeatureEngineer, data_split\n",
    "from finrl.meta.env_stock_trading.env_stocktrading import StockTradingEnv\n",
    "from finrl.agents.stablebaselines3.models import DRLAgent\n",
    "from stable_baselines3.common.logger import configure\n",
    "from finrl.meta.data_processor import DataProcessor\n",
    "\n",
    "from finrl.plot import backtest_stats, backtest_plot, get_daily_return, get_baseline\n",
    "from pprint import pprint\n",
    "\n",
    "import sys\n",
    "sys.path.append(\"../FinRL\")\n",
    "\n",
    "import itertools"
   ]
  },
  {
   "cell_type": "code",
   "execution_count": 3,
   "metadata": {},
   "outputs": [],
   "source": [
    "from finrl import config\n",
    "from finrl import config_tickers\n",
    "import os\n",
    "from finrl.main import check_and_make_directories\n",
    "from finrl.config import (\n",
    "    DATA_SAVE_DIR,\n",
    "    TRAINED_MODEL_DIR,\n",
    "    TENSORBOARD_LOG_DIR,\n",
    "    RESULTS_DIR,\n",
    "    INDICATORS,\n",
    "    TRAIN_START_DATE,\n",
    "    TRAIN_END_DATE,\n",
    "    TEST_START_DATE,\n",
    "    TEST_END_DATE,\n",
    "    TRADE_START_DATE,\n",
    "    TRADE_END_DATE,\n",
    ")\n",
    "check_and_make_directories([DATA_SAVE_DIR, TRAINED_MODEL_DIR, TENSORBOARD_LOG_DIR, RESULTS_DIR])\n",
    "\n"
   ]
  },
  {
   "cell_type": "code",
   "execution_count": 4,
   "metadata": {},
   "outputs": [],
   "source": [
    "#model\n",
    "import torch\n",
    "import torch.nn as nn\n",
    "import torch.nn.functional as F\n",
    "import torch.optim as optim\n",
    "import torch.utils.data as data\n",
    "from torch.utils.data import Dataset\n",
    "from torch.utils.data import DataLoader"
   ]
  },
  {
   "cell_type": "code",
   "execution_count": 5,
   "metadata": {},
   "outputs": [
    {
     "data": {
      "text/plain": [
       "'2020-07-31'"
      ]
     },
     "execution_count": 5,
     "metadata": {},
     "output_type": "execute_result"
    }
   ],
   "source": [
    "# from config.py, TRAIN_START_DATE is a string\n",
    "TRAIN_START_DATE\n",
    "# from config.py, TRAIN_END_DATE is a string\n",
    "TRAIN_END_DATE"
   ]
  },
  {
   "cell_type": "code",
   "execution_count": 6,
   "metadata": {},
   "outputs": [
    {
     "name": "stdout",
     "output_type": "stream",
     "text": [
      "[*********************100%***********************]  1 of 1 completed\n",
      "[*********************100%***********************]  1 of 1 completed\n",
      "[*********************100%***********************]  1 of 1 completed\n",
      "[*********************100%***********************]  1 of 1 completed\n",
      "[*********************100%***********************]  1 of 1 completed\n",
      "[*********************100%***********************]  1 of 1 completed\n",
      "[*********************100%***********************]  1 of 1 completed\n",
      "[*********************100%***********************]  1 of 1 completed\n",
      "[*********************100%***********************]  1 of 1 completed\n",
      "Shape of DataFrame:  (32481, 8)\n"
     ]
    }
   ],
   "source": [
    "TRAIN_START_DATE = '2009-01-01' #실제 시작 시점은 2010년 0101이나, prediction용 1년치 추가함.\n",
    "TRAIN_END_DATE = '2021-10-01'\n",
    "TRADE_START_DATE = '2021-10-01'\n",
    "TRADE_END_DATE = '2023-05-05'\n",
    "\n",
    "tickers = ['XLB','XLE','XLF','XLI','XLK','XLP','XLU','XLV','XLY']\n",
    "\n",
    "df = YahooDownloader(start_date = TRAIN_START_DATE,\n",
    "                     end_date = TRADE_END_DATE,\n",
    "                     ticker_list = tickers).fetch_data()"
   ]
  },
  {
   "cell_type": "code",
   "execution_count": 7,
   "metadata": {},
   "outputs": [],
   "source": [
    "tickers = ['XLB','XLE','XLF','XLI','XLK','XLP','XLU','XLV','XLY']"
   ]
  },
  {
   "cell_type": "code",
   "execution_count": 8,
   "metadata": {},
   "outputs": [
    {
     "name": "stdout",
     "output_type": "stream",
     "text": [
      "[*********************100%***********************]  1 of 1 completed\n",
      "[*********************100%***********************]  1 of 1 completed\n",
      "[*********************100%***********************]  1 of 1 completed\n",
      "[*********************100%***********************]  1 of 1 completed\n",
      "[*********************100%***********************]  1 of 1 completed\n",
      "[*********************100%***********************]  1 of 1 completed\n",
      "[*********************100%***********************]  1 of 1 completed\n",
      "[*********************100%***********************]  1 of 1 completed\n",
      "[*********************100%***********************]  1 of 1 completed\n",
      "Shape of DataFrame:  (32481, 8)\n"
     ]
    }
   ],
   "source": [
    "df = YahooDownloader(start_date = TRAIN_START_DATE,\n",
    "                     end_date = TRADE_END_DATE,\n",
    "                     ticker_list = tickers).fetch_data()"
   ]
  },
  {
   "cell_type": "code",
   "execution_count": 61,
   "metadata": {},
   "outputs": [
    {
     "data": {
      "text/html": [
       "<div>\n",
       "<style scoped>\n",
       "    .dataframe tbody tr th:only-of-type {\n",
       "        vertical-align: middle;\n",
       "    }\n",
       "\n",
       "    .dataframe tbody tr th {\n",
       "        vertical-align: top;\n",
       "    }\n",
       "\n",
       "    .dataframe thead th {\n",
       "        text-align: right;\n",
       "    }\n",
       "</style>\n",
       "<table border=\"1\" class=\"dataframe\">\n",
       "  <thead>\n",
       "    <tr style=\"text-align: right;\">\n",
       "      <th></th>\n",
       "      <th>date</th>\n",
       "      <th>open</th>\n",
       "      <th>high</th>\n",
       "      <th>low</th>\n",
       "      <th>close</th>\n",
       "      <th>volume</th>\n",
       "      <th>tic</th>\n",
       "      <th>day</th>\n",
       "    </tr>\n",
       "  </thead>\n",
       "  <tbody>\n",
       "    <tr>\n",
       "      <th>0</th>\n",
       "      <td>2009-01-02</td>\n",
       "      <td>22.900000</td>\n",
       "      <td>23.709999</td>\n",
       "      <td>22.690001</td>\n",
       "      <td>17.207544</td>\n",
       "      <td>7110000</td>\n",
       "      <td>XLB</td>\n",
       "      <td>4</td>\n",
       "    </tr>\n",
       "    <tr>\n",
       "      <th>1</th>\n",
       "      <td>2009-01-02</td>\n",
       "      <td>48.200001</td>\n",
       "      <td>50.669998</td>\n",
       "      <td>48.080002</td>\n",
       "      <td>31.549152</td>\n",
       "      <td>34283700</td>\n",
       "      <td>XLE</td>\n",
       "      <td>4</td>\n",
       "    </tr>\n",
       "    <tr>\n",
       "      <th>2</th>\n",
       "      <td>2009-01-02</td>\n",
       "      <td>10.178716</td>\n",
       "      <td>10.406174</td>\n",
       "      <td>9.918765</td>\n",
       "      <td>7.878148</td>\n",
       "      <td>117919090</td>\n",
       "      <td>XLF</td>\n",
       "      <td>4</td>\n",
       "    </tr>\n",
       "    <tr>\n",
       "      <th>3</th>\n",
       "      <td>2009-01-02</td>\n",
       "      <td>23.520000</td>\n",
       "      <td>24.420000</td>\n",
       "      <td>23.270000</td>\n",
       "      <td>18.167885</td>\n",
       "      <td>6659500</td>\n",
       "      <td>XLI</td>\n",
       "      <td>4</td>\n",
       "    </tr>\n",
       "    <tr>\n",
       "      <th>4</th>\n",
       "      <td>2009-01-02</td>\n",
       "      <td>15.500000</td>\n",
       "      <td>16.070000</td>\n",
       "      <td>15.380000</td>\n",
       "      <td>12.912432</td>\n",
       "      <td>4479800</td>\n",
       "      <td>XLK</td>\n",
       "      <td>4</td>\n",
       "    </tr>\n",
       "  </tbody>\n",
       "</table>\n",
       "</div>"
      ],
      "text/plain": [
       "         date       open       high        low      close     volume  tic  day\n",
       "0  2009-01-02  22.900000  23.709999  22.690001  17.207544    7110000  XLB    4\n",
       "1  2009-01-02  48.200001  50.669998  48.080002  31.549152   34283700  XLE    4\n",
       "2  2009-01-02  10.178716  10.406174   9.918765   7.878148  117919090  XLF    4\n",
       "3  2009-01-02  23.520000  24.420000  23.270000  18.167885    6659500  XLI    4\n",
       "4  2009-01-02  15.500000  16.070000  15.380000  12.912432    4479800  XLK    4"
      ]
     },
     "execution_count": 61,
     "metadata": {},
     "output_type": "execute_result"
    }
   ],
   "source": [
    "df.sort_values(['date','tic'],ignore_index=True).head()"
   ]
  },
  {
   "cell_type": "code",
   "execution_count": 62,
   "metadata": {},
   "outputs": [
    {
     "data": {
      "text/html": [
       "<div>\n",
       "<style scoped>\n",
       "    .dataframe tbody tr th:only-of-type {\n",
       "        vertical-align: middle;\n",
       "    }\n",
       "\n",
       "    .dataframe tbody tr th {\n",
       "        vertical-align: top;\n",
       "    }\n",
       "\n",
       "    .dataframe thead th {\n",
       "        text-align: right;\n",
       "    }\n",
       "</style>\n",
       "<table border=\"1\" class=\"dataframe\">\n",
       "  <thead>\n",
       "    <tr style=\"text-align: right;\">\n",
       "      <th></th>\n",
       "      <th>XLB</th>\n",
       "      <th>XLE</th>\n",
       "      <th>XLF</th>\n",
       "      <th>XLI</th>\n",
       "      <th>XLK</th>\n",
       "      <th>XLP</th>\n",
       "      <th>XLU</th>\n",
       "      <th>XLV</th>\n",
       "      <th>XLY</th>\n",
       "      <th>date</th>\n",
       "    </tr>\n",
       "  </thead>\n",
       "  <tbody>\n",
       "    <tr>\n",
       "      <th>0</th>\n",
       "      <td>17.207544</td>\n",
       "      <td>31.549152</td>\n",
       "      <td>7.878148</td>\n",
       "      <td>18.167885</td>\n",
       "      <td>12.912432</td>\n",
       "      <td>16.372381</td>\n",
       "      <td>17.672310</td>\n",
       "      <td>21.070580</td>\n",
       "      <td>18.663008</td>\n",
       "      <td>2009-01-02</td>\n",
       "    </tr>\n",
       "    <tr>\n",
       "      <th>1</th>\n",
       "      <td>17.244049</td>\n",
       "      <td>32.291500</td>\n",
       "      <td>7.747466</td>\n",
       "      <td>18.025711</td>\n",
       "      <td>12.872056</td>\n",
       "      <td>16.440002</td>\n",
       "      <td>17.922132</td>\n",
       "      <td>20.969465</td>\n",
       "      <td>18.580612</td>\n",
       "      <td>2009-01-05</td>\n",
       "    </tr>\n",
       "    <tr>\n",
       "      <th>2</th>\n",
       "      <td>17.630985</td>\n",
       "      <td>32.643772</td>\n",
       "      <td>7.871925</td>\n",
       "      <td>18.422297</td>\n",
       "      <td>13.170849</td>\n",
       "      <td>16.196552</td>\n",
       "      <td>17.666365</td>\n",
       "      <td>20.627230</td>\n",
       "      <td>18.893719</td>\n",
       "      <td>2009-01-06</td>\n",
       "    </tr>\n",
       "    <tr>\n",
       "      <th>3</th>\n",
       "      <td>17.222149</td>\n",
       "      <td>31.259766</td>\n",
       "      <td>7.461215</td>\n",
       "      <td>17.599194</td>\n",
       "      <td>12.750926</td>\n",
       "      <td>16.034246</td>\n",
       "      <td>17.523596</td>\n",
       "      <td>20.440569</td>\n",
       "      <td>18.143908</td>\n",
       "      <td>2009-01-07</td>\n",
       "    </tr>\n",
       "    <tr>\n",
       "      <th>4</th>\n",
       "      <td>17.463070</td>\n",
       "      <td>31.662392</td>\n",
       "      <td>7.430102</td>\n",
       "      <td>17.771301</td>\n",
       "      <td>12.839756</td>\n",
       "      <td>15.824604</td>\n",
       "      <td>17.434381</td>\n",
       "      <td>20.557238</td>\n",
       "      <td>18.251024</td>\n",
       "      <td>2009-01-08</td>\n",
       "    </tr>\n",
       "  </tbody>\n",
       "</table>\n",
       "</div>"
      ],
      "text/plain": [
       "         XLB        XLE       XLF        XLI        XLK        XLP        XLU  \\\n",
       "0  17.207544  31.549152  7.878148  18.167885  12.912432  16.372381  17.672310   \n",
       "1  17.244049  32.291500  7.747466  18.025711  12.872056  16.440002  17.922132   \n",
       "2  17.630985  32.643772  7.871925  18.422297  13.170849  16.196552  17.666365   \n",
       "3  17.222149  31.259766  7.461215  17.599194  12.750926  16.034246  17.523596   \n",
       "4  17.463070  31.662392  7.430102  17.771301  12.839756  15.824604  17.434381   \n",
       "\n",
       "         XLV        XLY        date  \n",
       "0  21.070580  18.663008  2009-01-02  \n",
       "1  20.969465  18.580612  2009-01-05  \n",
       "2  20.627230  18.893719  2009-01-06  \n",
       "3  20.440569  18.143908  2009-01-07  \n",
       "4  20.557238  18.251024  2009-01-08  "
      ]
     },
     "execution_count": 62,
     "metadata": {},
     "output_type": "execute_result"
    }
   ],
   "source": [
    "#종가 기준 Datasetting\n",
    "\n",
    "data_for_pred = pd.DataFrame(index = range(len(df[df.tic=='XLB'])), columns = tickers)\n",
    "data_for_pred['date'] = df[df.tic=='XLB'].date.values\n",
    "for tic in tickers:\n",
    "    data_for_pred[tic] = df[df.tic==tic].close.values\n",
    "    \n",
    "data_for_pred.head() "
   ]
  },
  {
   "cell_type": "code",
   "execution_count": 63,
   "metadata": {},
   "outputs": [
    {
     "name": "stdout",
     "output_type": "stream",
     "text": [
      "252\n",
      "3209\n"
     ]
    }
   ],
   "source": [
    "prediction_start_index = data_for_pred[data_for_pred['date'] >= '2010-01-01'].index[0] \n",
    "test_start_index = data_for_pred[data_for_pred['date'] >= TRADE_START_DATE].index[0]\n",
    "\n",
    "print(prediction_start_index)\n",
    "print(test_start_index)"
   ]
  },
  {
   "cell_type": "code",
   "execution_count": 64,
   "metadata": {},
   "outputs": [
    {
     "data": {
      "text/plain": [
       "['2009-01-02', '2009-01-05', '2009-01-06', '2009-01-07', '2009-01-08']"
      ]
     },
     "execution_count": 64,
     "metadata": {},
     "output_type": "execute_result"
    }
   ],
   "source": [
    "idx_date = data_for_pred['date']\n",
    "def idx_date_mapper(idx_list):\n",
    "    date_list = []\n",
    "    for idx in idx_list:\n",
    "        date_list.append(idx_date[idx])\n",
    "    return date_list\n",
    "\n",
    "idx_date_mapper([0,1,2,3,4])"
   ]
  },
  {
   "cell_type": "code",
   "execution_count": 103,
   "metadata": {},
   "outputs": [
    {
     "data": {
      "text/html": [
       "<div>\n",
       "<style scoped>\n",
       "    .dataframe tbody tr th:only-of-type {\n",
       "        vertical-align: middle;\n",
       "    }\n",
       "\n",
       "    .dataframe tbody tr th {\n",
       "        vertical-align: top;\n",
       "    }\n",
       "\n",
       "    .dataframe thead th {\n",
       "        text-align: right;\n",
       "    }\n",
       "</style>\n",
       "<table border=\"1\" class=\"dataframe\">\n",
       "  <thead>\n",
       "    <tr style=\"text-align: right;\">\n",
       "      <th></th>\n",
       "      <th>XLB</th>\n",
       "      <th>XLE</th>\n",
       "      <th>XLF</th>\n",
       "      <th>XLI</th>\n",
       "      <th>XLK</th>\n",
       "      <th>XLP</th>\n",
       "      <th>XLU</th>\n",
       "      <th>XLV</th>\n",
       "      <th>XLY</th>\n",
       "    </tr>\n",
       "  </thead>\n",
       "  <tbody>\n",
       "    <tr>\n",
       "      <th>0</th>\n",
       "      <td>17.207544</td>\n",
       "      <td>31.549152</td>\n",
       "      <td>7.878148</td>\n",
       "      <td>18.167885</td>\n",
       "      <td>12.912432</td>\n",
       "      <td>16.372381</td>\n",
       "      <td>17.672310</td>\n",
       "      <td>21.070580</td>\n",
       "      <td>18.663008</td>\n",
       "    </tr>\n",
       "    <tr>\n",
       "      <th>1</th>\n",
       "      <td>17.244049</td>\n",
       "      <td>32.291500</td>\n",
       "      <td>7.747466</td>\n",
       "      <td>18.025711</td>\n",
       "      <td>12.872056</td>\n",
       "      <td>16.440002</td>\n",
       "      <td>17.922132</td>\n",
       "      <td>20.969465</td>\n",
       "      <td>18.580612</td>\n",
       "    </tr>\n",
       "    <tr>\n",
       "      <th>2</th>\n",
       "      <td>17.630985</td>\n",
       "      <td>32.643772</td>\n",
       "      <td>7.871925</td>\n",
       "      <td>18.422297</td>\n",
       "      <td>13.170849</td>\n",
       "      <td>16.196552</td>\n",
       "      <td>17.666365</td>\n",
       "      <td>20.627230</td>\n",
       "      <td>18.893719</td>\n",
       "    </tr>\n",
       "    <tr>\n",
       "      <th>3</th>\n",
       "      <td>17.222149</td>\n",
       "      <td>31.259766</td>\n",
       "      <td>7.461215</td>\n",
       "      <td>17.599194</td>\n",
       "      <td>12.750926</td>\n",
       "      <td>16.034246</td>\n",
       "      <td>17.523596</td>\n",
       "      <td>20.440569</td>\n",
       "      <td>18.143908</td>\n",
       "    </tr>\n",
       "    <tr>\n",
       "      <th>4</th>\n",
       "      <td>17.463070</td>\n",
       "      <td>31.662392</td>\n",
       "      <td>7.430102</td>\n",
       "      <td>17.771301</td>\n",
       "      <td>12.839756</td>\n",
       "      <td>15.824604</td>\n",
       "      <td>17.434381</td>\n",
       "      <td>20.557238</td>\n",
       "      <td>18.251024</td>\n",
       "    </tr>\n",
       "  </tbody>\n",
       "</table>\n",
       "</div>"
      ],
      "text/plain": [
       "         XLB        XLE       XLF        XLI        XLK        XLP        XLU  \\\n",
       "0  17.207544  31.549152  7.878148  18.167885  12.912432  16.372381  17.672310   \n",
       "1  17.244049  32.291500  7.747466  18.025711  12.872056  16.440002  17.922132   \n",
       "2  17.630985  32.643772  7.871925  18.422297  13.170849  16.196552  17.666365   \n",
       "3  17.222149  31.259766  7.461215  17.599194  12.750926  16.034246  17.523596   \n",
       "4  17.463070  31.662392  7.430102  17.771301  12.839756  15.824604  17.434381   \n",
       "\n",
       "         XLV        XLY  \n",
       "0  21.070580  18.663008  \n",
       "1  20.969465  18.580612  \n",
       "2  20.627230  18.893719  \n",
       "3  20.440569  18.143908  \n",
       "4  20.557238  18.251024  "
      ]
     },
     "execution_count": 103,
     "metadata": {},
     "output_type": "execute_result"
    }
   ],
   "source": [
    "data_for_pred = data_for_pred.drop('date',axis=1)\n",
    "data_for_pred.head()"
   ]
  },
  {
   "cell_type": "code",
   "execution_count": 104,
   "metadata": {},
   "outputs": [
    {
     "name": "stdout",
     "output_type": "stream",
     "text": [
      "3209 652\n"
     ]
    }
   ],
   "source": [
    "# Hyperparameters\n",
    "WINDOW_SIZE = prediction_start_index\n",
    "FORCAST_SIZE = 30\n",
    "device = torch.device('cuda' if torch.cuda.is_available() else 'cpu')\n",
    "\n",
    "\n",
    "train_dataset = data_for_pred[:test_start_index]\n",
    "test_dataset = data_for_pred[test_start_index-WINDOW_SIZE:]\n",
    "\n",
    "print(len(train_dataset),len(test_dataset))"
   ]
  },
  {
   "cell_type": "code",
   "execution_count": 105,
   "metadata": {},
   "outputs": [],
   "source": [
    "class moving_avg(torch.nn.Module):\n",
    "    def __init__(self, kernel_size, stride):\n",
    "        super(moving_avg, self).__init__()\n",
    "        self.kernel_size = kernel_size\n",
    "        self.avg = torch.nn.AvgPool1d(kernel_size=kernel_size, stride=stride, padding=0)\n",
    "\n",
    "    def forward(self, x):\n",
    "        front = x[:, 0:1, :].repeat(1, (self.kernel_size - 1) // 2, 1)\n",
    "        end = x[:, -1:, :].repeat(1, (self.kernel_size - 1) // 2, 1)\n",
    "        x = torch.cat([front, x, end], dim=1)\n",
    "        x = self.avg(x.permute(0, 2, 1))\n",
    "        x = x.permute(0, 2, 1)\n",
    "        return x\n",
    "\n",
    "class series_decomp(torch.nn.Module):\n",
    "    def __init__(self, kernel_size):\n",
    "        super(series_decomp, self).__init__()\n",
    "        self.moving_avg = moving_avg(kernel_size, stride=1)\n",
    "\n",
    "    def forward(self, x):\n",
    "        moving_mean = self.moving_avg(x)\n",
    "        residual = x - moving_mean\n",
    "        return moving_mean, residual \n",
    "        \n",
    "class LTSF_DLinear(torch.nn.Module):\n",
    "    def __init__(self, window_size, forcast_size, kernel_size, individual, feature_size):\n",
    "        super(LTSF_DLinear, self).__init__()\n",
    "        self.window_size = window_size\n",
    "        self.forcast_size = forcast_size\n",
    "        self.decompsition = series_decomp(kernel_size)\n",
    "        self.individual = individual\n",
    "        self.channels = feature_size\n",
    "        if self.individual:\n",
    "            self.Linear_Seasonal = torch.nn.ModuleList()\n",
    "            self.Linear_Trend = torch.nn.ModuleList()\n",
    "            for i in range(self.channels):\n",
    "                self.Linear_Trend.append(torch.nn.Linear(self.window_size, self.forcast_size))\n",
    "                self.Linear_Trend[i].weight = torch.nn.Parameter((1/self.window_size)*torch.ones([self.forcast_size, self.window_size]))\n",
    "                self.Linear_Seasonal.append(torch.nn.Linear(self.window_size, self.forcast_size))\n",
    "                self.Linear_Seasonal[i].weight = torch.nn.Parameter((1/self.window_size)*torch.ones([self.forcast_size, self.window_size]))\n",
    "        else:\n",
    "            self.Linear_Trend = torch.nn.Linear(self.window_size, self.forcast_size)\n",
    "            self.Linear_Trend.weight = torch.nn.Parameter((1/self.window_size)*torch.ones([self.forcast_size, self.window_size]))\n",
    "            self.Linear_Seasonal = torch.nn.Linear(self.window_size,  self.forcast_size)\n",
    "            self.Linear_Seasonal.weight = torch.nn.Parameter((1/self.window_size)*torch.ones([self.forcast_size, self.window_size]))\n",
    "\n",
    "    def forward(self, x):\n",
    "        trend_init, seasonal_init = self.decompsition(x)\n",
    "        trend_init, seasonal_init = trend_init.permute(0,2,1), seasonal_init.permute(0,2,1)\n",
    "        if self.individual:\n",
    "            trend_output = torch.zeros([trend_init.size(0), trend_init.size(1), self.forcast_size], dtype=trend_init.dtype).to(trend_init.device)\n",
    "            seasonal_output = torch.zeros([seasonal_init.size(0), seasonal_init.size(1), self.forcast_size], dtype=seasonal_init.dtype).to(seasonal_init.device)\n",
    "            for idx in range(self.channels):\n",
    "                trend_output[:, idx, :] = self.Linear_Trend[idx](trend_init[:, idx, :])\n",
    "                seasonal_output[:, idx, :] = self.Linear_Seasonal[idx](seasonal_init[:, idx, :])                \n",
    "        else:\n",
    "            trend_output = self.Linear_Trend(trend_init)\n",
    "            seasonal_output = self.Linear_Seasonal(seasonal_init)\n",
    "        x = seasonal_output + trend_output\n",
    "        return x.permute(0,2,1)"
   ]
  },
  {
   "cell_type": "code",
   "execution_count": 106,
   "metadata": {},
   "outputs": [],
   "source": [
    "class Windowed_Dataset(Dataset):\n",
    "    def __init__(self, data, window_size, forcast_size):\n",
    "        self.data = data\n",
    "        self.window_size = window_size\n",
    "        self.forcast_size = forcast_size\n",
    "        \n",
    "    def __len__(self):\n",
    "        return len(self.data) - self.window_size - self.forcast_size\n",
    "    \n",
    "    def __getitem__(self, idx):\n",
    "        return torch.from_numpy(self.data[idx:idx+self.window_size].values).type(torch.FloatTensor), torch.from_numpy(self.data[idx+self.window_size:idx+self.window_size+self.forcast_size].values).type(torch.FloatTensor)\n",
    "    "
   ]
  },
  {
   "cell_type": "code",
   "execution_count": 107,
   "metadata": {},
   "outputs": [
    {
     "name": "stdout",
     "output_type": "stream",
     "text": [
      "2927 370 3327\n"
     ]
    }
   ],
   "source": [
    "WD_train = Windowed_Dataset(train_dataset, WINDOW_SIZE, FORCAST_SIZE)\n",
    "WD_test = Windowed_Dataset(test_dataset, WINDOW_SIZE, FORCAST_SIZE)\n",
    "WD_all = Windowed_Dataset(data_for_pred, WINDOW_SIZE, FORCAST_SIZE)\n",
    "\n",
    "train_loader = DataLoader(WD_train, batch_size=32, shuffle=False)\n",
    "test_loader = DataLoader(WD_test, batch_size=32, shuffle=False)\n",
    "all_loader = DataLoader(WD_all, batch_size=32, shuffle=False)\n",
    "\n",
    "print(len(WD_train), len(WD_test), len(WD_all))"
   ]
  },
  {
   "cell_type": "code",
   "execution_count": 94,
   "metadata": {},
   "outputs": [],
   "source": [
    "model = LTSF_DLinear(WINDOW_SIZE, FORCAST_SIZE, 25, True, 9)\n",
    "model = model.to(device)\n",
    "\n",
    "criterion = nn.MSELoss().to(device)\n",
    "optimizer = optim.Adam(model.parameters(), lr=0.001)\n",
    "\n",
    "def train(model, train_loader, criterion, optimizer, device, epochs, tolerance=0.0001):\n",
    "    model.train()\n",
    "    train_loss = 0\n",
    "    for epoch in tqdm(range(epochs)):\n",
    "        for X, y in train_loader:\n",
    "            X = X.to(device)\n",
    "            y = y.to(device)\n",
    "            optimizer.zero_grad()\n",
    "            output = model(X)\n",
    "            loss = criterion(output, y)\n",
    "            loss.backward()\n",
    "            optimizer.step()\n",
    "            train_loss += loss.item()\n",
    "        if epoch % 10 == 0:\n",
    "            print('Epoch: {} \\tTraining Loss: {:.6f}'.format(epoch+1, loss.item()))\n",
    "        if train_loss < tolerance:\n",
    "            print('Training Loss: {:.6f}'.format(loss.item()))\n",
    "            break\n",
    "        train_loss = 0\n",
    "            \n",
    "    return model\n",
    "            \n",
    "def test(model, test_loader, criterion, device):\n",
    "    model.eval()\n",
    "    test_loss = 0\n",
    "    predictions = []\n",
    "    for X, y in tqdm(test_loader):\n",
    "        X = X.to(device)\n",
    "        y = y.to(device)\n",
    "        with torch.no_grad():\n",
    "            output = model(X)\n",
    "            loss = criterion(output, y)\n",
    "            test_loss += loss.item()\n",
    "            predictions.append(output)\n",
    "        \n",
    "    print('Test Loss: {:.6f}'.format(loss.item()))\n",
    "    return predictions\n",
    "         "
   ]
  },
  {
   "cell_type": "code",
   "execution_count": 95,
   "metadata": {},
   "outputs": [
    {
     "name": "stderr",
     "output_type": "stream",
     "text": [
      "  0%|          | 1/200 [00:01<03:39,  1.10s/it]"
     ]
    },
    {
     "name": "stdout",
     "output_type": "stream",
     "text": [
      "Epoch: 1 \tTraining Loss: 48.092880\n"
     ]
    },
    {
     "name": "stderr",
     "output_type": "stream",
     "text": [
      "  6%|▌         | 11/200 [00:17<05:40,  1.80s/it]"
     ]
    },
    {
     "name": "stdout",
     "output_type": "stream",
     "text": [
      "Epoch: 11 \tTraining Loss: 186.506180\n"
     ]
    },
    {
     "name": "stderr",
     "output_type": "stream",
     "text": [
      " 10%|█         | 21/200 [00:35<05:17,  1.77s/it]"
     ]
    },
    {
     "name": "stdout",
     "output_type": "stream",
     "text": [
      "Epoch: 21 \tTraining Loss: 163.156982\n"
     ]
    },
    {
     "name": "stderr",
     "output_type": "stream",
     "text": [
      " 16%|█▌        | 31/200 [00:52<04:48,  1.71s/it]"
     ]
    },
    {
     "name": "stdout",
     "output_type": "stream",
     "text": [
      "Epoch: 31 \tTraining Loss: 121.314445\n"
     ]
    },
    {
     "name": "stderr",
     "output_type": "stream",
     "text": [
      " 20%|██        | 41/200 [01:09<04:27,  1.68s/it]"
     ]
    },
    {
     "name": "stdout",
     "output_type": "stream",
     "text": [
      "Epoch: 41 \tTraining Loss: 103.263954\n"
     ]
    },
    {
     "name": "stderr",
     "output_type": "stream",
     "text": [
      " 26%|██▌       | 51/200 [01:26<04:10,  1.68s/it]"
     ]
    },
    {
     "name": "stdout",
     "output_type": "stream",
     "text": [
      "Epoch: 51 \tTraining Loss: 105.252213\n"
     ]
    },
    {
     "name": "stderr",
     "output_type": "stream",
     "text": [
      " 30%|███       | 61/200 [01:44<04:04,  1.76s/it]"
     ]
    },
    {
     "name": "stdout",
     "output_type": "stream",
     "text": [
      "Epoch: 61 \tTraining Loss: 133.130432\n"
     ]
    },
    {
     "name": "stderr",
     "output_type": "stream",
     "text": [
      " 36%|███▌      | 71/200 [02:01<03:37,  1.69s/it]"
     ]
    },
    {
     "name": "stdout",
     "output_type": "stream",
     "text": [
      "Epoch: 71 \tTraining Loss: 153.583694\n"
     ]
    },
    {
     "name": "stderr",
     "output_type": "stream",
     "text": [
      " 40%|████      | 81/200 [02:18<03:17,  1.66s/it]"
     ]
    },
    {
     "name": "stdout",
     "output_type": "stream",
     "text": [
      "Epoch: 81 \tTraining Loss: 141.068588\n"
     ]
    },
    {
     "name": "stderr",
     "output_type": "stream",
     "text": [
      " 46%|████▌     | 91/200 [02:35<03:07,  1.72s/it]"
     ]
    },
    {
     "name": "stdout",
     "output_type": "stream",
     "text": [
      "Epoch: 91 \tTraining Loss: 89.904167\n"
     ]
    },
    {
     "name": "stderr",
     "output_type": "stream",
     "text": [
      " 50%|█████     | 101/200 [02:53<02:54,  1.77s/it]"
     ]
    },
    {
     "name": "stdout",
     "output_type": "stream",
     "text": [
      "Epoch: 101 \tTraining Loss: 94.598763\n"
     ]
    },
    {
     "name": "stderr",
     "output_type": "stream",
     "text": [
      " 56%|█████▌    | 111/200 [03:11<02:30,  1.70s/it]"
     ]
    },
    {
     "name": "stdout",
     "output_type": "stream",
     "text": [
      "Epoch: 111 \tTraining Loss: 143.742859\n"
     ]
    },
    {
     "name": "stderr",
     "output_type": "stream",
     "text": [
      " 60%|██████    | 121/200 [03:28<02:20,  1.77s/it]"
     ]
    },
    {
     "name": "stdout",
     "output_type": "stream",
     "text": [
      "Epoch: 121 \tTraining Loss: 110.144958\n"
     ]
    },
    {
     "name": "stderr",
     "output_type": "stream",
     "text": [
      " 66%|██████▌   | 131/200 [03:45<01:59,  1.73s/it]"
     ]
    },
    {
     "name": "stdout",
     "output_type": "stream",
     "text": [
      "Epoch: 131 \tTraining Loss: 110.277969\n"
     ]
    },
    {
     "name": "stderr",
     "output_type": "stream",
     "text": [
      " 70%|███████   | 141/200 [04:05<01:43,  1.75s/it]"
     ]
    },
    {
     "name": "stdout",
     "output_type": "stream",
     "text": [
      "Epoch: 141 \tTraining Loss: 142.697952\n"
     ]
    },
    {
     "name": "stderr",
     "output_type": "stream",
     "text": [
      " 76%|███████▌  | 151/200 [04:23<01:23,  1.70s/it]"
     ]
    },
    {
     "name": "stdout",
     "output_type": "stream",
     "text": [
      "Epoch: 151 \tTraining Loss: 118.973763\n"
     ]
    },
    {
     "name": "stderr",
     "output_type": "stream",
     "text": [
      " 80%|████████  | 161/200 [04:40<01:06,  1.71s/it]"
     ]
    },
    {
     "name": "stdout",
     "output_type": "stream",
     "text": [
      "Epoch: 161 \tTraining Loss: 113.188026\n"
     ]
    },
    {
     "name": "stderr",
     "output_type": "stream",
     "text": [
      " 86%|████████▌ | 171/200 [04:57<00:49,  1.71s/it]"
     ]
    },
    {
     "name": "stdout",
     "output_type": "stream",
     "text": [
      "Epoch: 171 \tTraining Loss: 102.765373\n"
     ]
    },
    {
     "name": "stderr",
     "output_type": "stream",
     "text": [
      " 90%|█████████ | 181/200 [05:14<00:31,  1.68s/it]"
     ]
    },
    {
     "name": "stdout",
     "output_type": "stream",
     "text": [
      "Epoch: 181 \tTraining Loss: 124.313179\n"
     ]
    },
    {
     "name": "stderr",
     "output_type": "stream",
     "text": [
      " 96%|█████████▌| 191/200 [05:33<00:18,  2.07s/it]"
     ]
    },
    {
     "name": "stdout",
     "output_type": "stream",
     "text": [
      "Epoch: 191 \tTraining Loss: 137.110931\n"
     ]
    },
    {
     "name": "stderr",
     "output_type": "stream",
     "text": [
      "100%|██████████| 200/200 [05:51<00:00,  1.76s/it]\n"
     ]
    }
   ],
   "source": [
    "model = train(model, train_loader, criterion, optimizer, device, 200, 1)"
   ]
  },
  {
   "cell_type": "code",
   "execution_count": 96,
   "metadata": {},
   "outputs": [
    {
     "name": "stderr",
     "output_type": "stream",
     "text": [
      "100%|██████████| 12/12 [00:00<00:00, 50.96it/s]"
     ]
    },
    {
     "name": "stdout",
     "output_type": "stream",
     "text": [
      "Test Loss: 797.752197\n"
     ]
    },
    {
     "name": "stderr",
     "output_type": "stream",
     "text": [
      "\n"
     ]
    }
   ],
   "source": [
    "test_predictions = test(model, test_loader, criterion, device)"
   ]
  },
  {
   "cell_type": "code",
   "execution_count": 97,
   "metadata": {},
   "outputs": [
    {
     "data": {
      "text/plain": [
       "torch.Size([370, 30, 9])"
      ]
     },
     "execution_count": 97,
     "metadata": {},
     "output_type": "execute_result"
    }
   ],
   "source": [
    "test_predictions = torch.cat(test_predictions, dim=0)\n",
    "test_predictions.shape"
   ]
  },
  {
   "cell_type": "code",
   "execution_count": 98,
   "metadata": {},
   "outputs": [
    {
     "data": {
      "image/png": "[encoded data removed]",
      "text/plain": [
       "<Figure size 1200x800 with 1 Axes>"
      ]
     },
     "metadata": {},
     "output_type": "display_data"
    }
   ],
   "source": [
    "plt.figure(figsize=(12,8))\n",
    "plt.title('LTSF-DLinear, XLE')\n",
    "for i in range(9,30,10):\n",
    "    plt.plot(test_predictions[:,i,1].cpu().detach().numpy(), label='Predictions_{}'.format(i+1))\n",
    "plt.plot(test_dataset['XLE'].values[WINDOW_SIZE:-FORCAST_SIZE], label='True')\n",
    "plt.legend()\n",
    "plt.show()"
   ]
  },
  {
   "attachments": {},
   "cell_type": "markdown",
   "metadata": {},
   "source": [
    "#### Data 뽑기\n"
   ]
  },
  {
   "cell_type": "code",
   "execution_count": 99,
   "metadata": {},
   "outputs": [
    {
     "name": "stdout",
     "output_type": "stream",
     "text": [
      "3327\n"
     ]
    }
   ],
   "source": [
    "print(len(data_for_pred)-WINDOW_SIZE-FORCAST_SIZE)"
   ]
  },
  {
   "cell_type": "code",
   "execution_count": 100,
   "metadata": {},
   "outputs": [],
   "source": [
    "data_for_pred['date'] = idx_date_mapper(data_for_pred.index)"
   ]
  },
  {
   "cell_type": "code",
   "execution_count": 101,
   "metadata": {},
   "outputs": [
    {
     "data": {
      "text/html": [
       "<div>\n",
       "<style scoped>\n",
       "    .dataframe tbody tr th:only-of-type {\n",
       "        vertical-align: middle;\n",
       "    }\n",
       "\n",
       "    .dataframe tbody tr th {\n",
       "        vertical-align: top;\n",
       "    }\n",
       "\n",
       "    .dataframe thead th {\n",
       "        text-align: right;\n",
       "    }\n",
       "</style>\n",
       "<table border=\"1\" class=\"dataframe\">\n",
       "  <thead>\n",
       "    <tr style=\"text-align: right;\">\n",
       "      <th></th>\n",
       "      <th>XLB</th>\n",
       "      <th>XLE</th>\n",
       "      <th>XLF</th>\n",
       "      <th>XLI</th>\n",
       "      <th>XLK</th>\n",
       "      <th>XLP</th>\n",
       "      <th>XLU</th>\n",
       "      <th>XLV</th>\n",
       "      <th>XLY</th>\n",
       "      <th>date</th>\n",
       "    </tr>\n",
       "  </thead>\n",
       "  <tbody>\n",
       "    <tr>\n",
       "      <th>0</th>\n",
       "      <td>17.207544</td>\n",
       "      <td>31.549152</td>\n",
       "      <td>7.878148</td>\n",
       "      <td>18.167885</td>\n",
       "      <td>12.912432</td>\n",
       "      <td>16.372381</td>\n",
       "      <td>17.672310</td>\n",
       "      <td>21.070580</td>\n",
       "      <td>18.663008</td>\n",
       "      <td>2009-01-02</td>\n",
       "    </tr>\n",
       "    <tr>\n",
       "      <th>1</th>\n",
       "      <td>17.244049</td>\n",
       "      <td>32.291500</td>\n",
       "      <td>7.747466</td>\n",
       "      <td>18.025711</td>\n",
       "      <td>12.872056</td>\n",
       "      <td>16.440002</td>\n",
       "      <td>17.922132</td>\n",
       "      <td>20.969465</td>\n",
       "      <td>18.580612</td>\n",
       "      <td>2009-01-05</td>\n",
       "    </tr>\n",
       "    <tr>\n",
       "      <th>2</th>\n",
       "      <td>17.630985</td>\n",
       "      <td>32.643772</td>\n",
       "      <td>7.871925</td>\n",
       "      <td>18.422297</td>\n",
       "      <td>13.170849</td>\n",
       "      <td>16.196552</td>\n",
       "      <td>17.666365</td>\n",
       "      <td>20.627230</td>\n",
       "      <td>18.893719</td>\n",
       "      <td>2009-01-06</td>\n",
       "    </tr>\n",
       "    <tr>\n",
       "      <th>3</th>\n",
       "      <td>17.222149</td>\n",
       "      <td>31.259766</td>\n",
       "      <td>7.461215</td>\n",
       "      <td>17.599194</td>\n",
       "      <td>12.750926</td>\n",
       "      <td>16.034246</td>\n",
       "      <td>17.523596</td>\n",
       "      <td>20.440569</td>\n",
       "      <td>18.143908</td>\n",
       "      <td>2009-01-07</td>\n",
       "    </tr>\n",
       "    <tr>\n",
       "      <th>4</th>\n",
       "      <td>17.463070</td>\n",
       "      <td>31.662392</td>\n",
       "      <td>7.430102</td>\n",
       "      <td>17.771301</td>\n",
       "      <td>12.839756</td>\n",
       "      <td>15.824604</td>\n",
       "      <td>17.434381</td>\n",
       "      <td>20.557238</td>\n",
       "      <td>18.251024</td>\n",
       "      <td>2009-01-08</td>\n",
       "    </tr>\n",
       "    <tr>\n",
       "      <th>...</th>\n",
       "      <td>...</td>\n",
       "      <td>...</td>\n",
       "      <td>...</td>\n",
       "      <td>...</td>\n",
       "      <td>...</td>\n",
       "      <td>...</td>\n",
       "      <td>...</td>\n",
       "      <td>...</td>\n",
       "      <td>...</td>\n",
       "      <td>...</td>\n",
       "    </tr>\n",
       "    <tr>\n",
       "      <th>3604</th>\n",
       "      <td>80.156860</td>\n",
       "      <td>84.386719</td>\n",
       "      <td>33.021828</td>\n",
       "      <td>99.601707</td>\n",
       "      <td>150.514740</td>\n",
       "      <td>76.894493</td>\n",
       "      <td>68.429596</td>\n",
       "      <td>132.982590</td>\n",
       "      <td>147.563187</td>\n",
       "      <td>2023-04-28</td>\n",
       "    </tr>\n",
       "    <tr>\n",
       "      <th>3605</th>\n",
       "      <td>80.117058</td>\n",
       "      <td>83.435097</td>\n",
       "      <td>32.932236</td>\n",
       "      <td>100.139557</td>\n",
       "      <td>150.604538</td>\n",
       "      <td>76.954063</td>\n",
       "      <td>68.548637</td>\n",
       "      <td>133.669754</td>\n",
       "      <td>146.106110</td>\n",
       "      <td>2023-05-01</td>\n",
       "    </tr>\n",
       "    <tr>\n",
       "      <th>3606</th>\n",
       "      <td>79.340866</td>\n",
       "      <td>79.807060</td>\n",
       "      <td>32.185585</td>\n",
       "      <td>99.093742</td>\n",
       "      <td>149.197479</td>\n",
       "      <td>76.745544</td>\n",
       "      <td>67.715340</td>\n",
       "      <td>133.092133</td>\n",
       "      <td>146.255814</td>\n",
       "      <td>2023-05-02</td>\n",
       "    </tr>\n",
       "    <tr>\n",
       "      <th>3607</th>\n",
       "      <td>78.465157</td>\n",
       "      <td>78.300323</td>\n",
       "      <td>31.817236</td>\n",
       "      <td>98.715256</td>\n",
       "      <td>147.940125</td>\n",
       "      <td>76.119987</td>\n",
       "      <td>67.526855</td>\n",
       "      <td>132.912888</td>\n",
       "      <td>145.098145</td>\n",
       "      <td>2023-05-03</td>\n",
       "    </tr>\n",
       "    <tr>\n",
       "      <th>3608</th>\n",
       "      <td>77.957642</td>\n",
       "      <td>77.428009</td>\n",
       "      <td>31.409067</td>\n",
       "      <td>97.639557</td>\n",
       "      <td>147.231598</td>\n",
       "      <td>75.931320</td>\n",
       "      <td>68.042702</td>\n",
       "      <td>131.857208</td>\n",
       "      <td>143.980392</td>\n",
       "      <td>2023-05-04</td>\n",
       "    </tr>\n",
       "  </tbody>\n",
       "</table>\n",
       "<p>3609 rows × 10 columns</p>\n",
       "</div>"
      ],
      "text/plain": [
       "            XLB        XLE        XLF         XLI         XLK        XLP  \\\n",
       "0     17.207544  31.549152   7.878148   18.167885   12.912432  16.372381   \n",
       "1     17.244049  32.291500   7.747466   18.025711   12.872056  16.440002   \n",
       "2     17.630985  32.643772   7.871925   18.422297   13.170849  16.196552   \n",
       "3     17.222149  31.259766   7.461215   17.599194   12.750926  16.034246   \n",
       "4     17.463070  31.662392   7.430102   17.771301   12.839756  15.824604   \n",
       "...         ...        ...        ...         ...         ...        ...   \n",
       "3604  80.156860  84.386719  33.021828   99.601707  150.514740  76.894493   \n",
       "3605  80.117058  83.435097  32.932236  100.139557  150.604538  76.954063   \n",
       "3606  79.340866  79.807060  32.185585   99.093742  149.197479  76.745544   \n",
       "3607  78.465157  78.300323  31.817236   98.715256  147.940125  76.119987   \n",
       "3608  77.957642  77.428009  31.409067   97.639557  147.231598  75.931320   \n",
       "\n",
       "            XLU         XLV         XLY        date  \n",
       "0     17.672310   21.070580   18.663008  2009-01-02  \n",
       "1     17.922132   20.969465   18.580612  2009-01-05  \n",
       "2     17.666365   20.627230   18.893719  2009-01-06  \n",
       "3     17.523596   20.440569   18.143908  2009-01-07  \n",
       "4     17.434381   20.557238   18.251024  2009-01-08  \n",
       "...         ...         ...         ...         ...  \n",
       "3604  68.429596  132.982590  147.563187  2023-04-28  \n",
       "3605  68.548637  133.669754  146.106110  2023-05-01  \n",
       "3606  67.715340  133.092133  146.255814  2023-05-02  \n",
       "3607  67.526855  132.912888  145.098145  2023-05-03  \n",
       "3608  68.042702  131.857208  143.980392  2023-05-04  \n",
       "\n",
       "[3609 rows x 10 columns]"
      ]
     },
     "execution_count": 101,
     "metadata": {},
     "output_type": "execute_result"
    }
   ],
   "source": [
    "data_for_pred"
   ]
  },
  {
   "cell_type": "code",
   "execution_count": 108,
   "metadata": {},
   "outputs": [
    {
     "name": "stderr",
     "output_type": "stream",
     "text": [
      "100%|██████████| 104/104 [00:00<00:00, 142.37it/s]"
     ]
    },
    {
     "name": "stdout",
     "output_type": "stream",
     "text": [
      "Test Loss: 983.351807\n"
     ]
    },
    {
     "name": "stderr",
     "output_type": "stream",
     "text": [
      "\n"
     ]
    },
    {
     "data": {
      "text/plain": [
       "torch.Size([3327, 30, 9])"
      ]
     },
     "execution_count": 108,
     "metadata": {},
     "output_type": "execute_result"
    }
   ],
   "source": [
    "all_predictions = test(model, all_loader, criterion, device)\n",
    "all_predictions = torch.cat(all_predictions, dim=0)\n",
    "all_predictions.shape"
   ]
  },
  {
   "cell_type": "code",
   "execution_count": 109,
   "metadata": {},
   "outputs": [],
   "source": [
    "prediction_5 = pd.DataFrame(all_predictions[:,4,:], columns=tickers, index = (data_for_pred.index[WINDOW_SIZE:-FORCAST_SIZE]))\n",
    "prediction_10 = pd.DataFrame(all_predictions[:,9,:], columns=tickers, index = (data_for_pred.index[WINDOW_SIZE:-FORCAST_SIZE]))\n",
    "prediction_30 = pd.DataFrame(all_predictions[:,29,:], columns=tickers, index = (data_for_pred.index[WINDOW_SIZE:-FORCAST_SIZE]))"
   ]
  },
  {
   "cell_type": "code",
   "execution_count": 112,
   "metadata": {},
   "outputs": [
    {
     "data": {
      "text/html": [
       "<div>\n",
       "<style scoped>\n",
       "    .dataframe tbody tr th:only-of-type {\n",
       "        vertical-align: middle;\n",
       "    }\n",
       "\n",
       "    .dataframe tbody tr th {\n",
       "        vertical-align: top;\n",
       "    }\n",
       "\n",
       "    .dataframe thead th {\n",
       "        text-align: right;\n",
       "    }\n",
       "</style>\n",
       "<table border=\"1\" class=\"dataframe\">\n",
       "  <thead>\n",
       "    <tr style=\"text-align: right;\">\n",
       "      <th></th>\n",
       "      <th>XLB</th>\n",
       "      <th>XLE</th>\n",
       "      <th>XLF</th>\n",
       "      <th>XLI</th>\n",
       "      <th>XLK</th>\n",
       "      <th>XLP</th>\n",
       "      <th>XLU</th>\n",
       "      <th>XLV</th>\n",
       "      <th>XLY</th>\n",
       "    </tr>\n",
       "  </thead>\n",
       "  <tbody>\n",
       "    <tr>\n",
       "      <th>252</th>\n",
       "      <td>24.808691</td>\n",
       "      <td>43.465008</td>\n",
       "      <td>9.345718</td>\n",
       "      <td>25.776966</td>\n",
       "      <td>23.978970</td>\n",
       "      <td>19.316423</td>\n",
       "      <td>21.047405</td>\n",
       "      <td>26.344728</td>\n",
       "      <td>29.322948</td>\n",
       "    </tr>\n",
       "    <tr>\n",
       "      <th>253</th>\n",
       "      <td>25.623768</td>\n",
       "      <td>44.595493</td>\n",
       "      <td>9.553405</td>\n",
       "      <td>25.920429</td>\n",
       "      <td>24.381214</td>\n",
       "      <td>19.540195</td>\n",
       "      <td>21.139866</td>\n",
       "      <td>26.814619</td>\n",
       "      <td>29.591909</td>\n",
       "    </tr>\n",
       "    <tr>\n",
       "      <th>254</th>\n",
       "      <td>26.020880</td>\n",
       "      <td>44.926476</td>\n",
       "      <td>9.816154</td>\n",
       "      <td>25.986450</td>\n",
       "      <td>24.629982</td>\n",
       "      <td>19.469889</td>\n",
       "      <td>20.883881</td>\n",
       "      <td>26.585705</td>\n",
       "      <td>29.762642</td>\n",
       "    </tr>\n",
       "    <tr>\n",
       "      <th>255</th>\n",
       "      <td>26.226303</td>\n",
       "      <td>44.695282</td>\n",
       "      <td>9.781052</td>\n",
       "      <td>25.606930</td>\n",
       "      <td>24.167477</td>\n",
       "      <td>19.282375</td>\n",
       "      <td>20.886683</td>\n",
       "      <td>26.705002</td>\n",
       "      <td>29.325682</td>\n",
       "    </tr>\n",
       "    <tr>\n",
       "      <th>256</th>\n",
       "      <td>26.024481</td>\n",
       "      <td>44.574814</td>\n",
       "      <td>9.853897</td>\n",
       "      <td>25.457603</td>\n",
       "      <td>23.991039</td>\n",
       "      <td>19.045454</td>\n",
       "      <td>20.708771</td>\n",
       "      <td>26.487020</td>\n",
       "      <td>29.206799</td>\n",
       "    </tr>\n",
       "  </tbody>\n",
       "</table>\n",
       "</div>"
      ],
      "text/plain": [
       "           XLB        XLE       XLF        XLI        XLK        XLP  \\\n",
       "252  24.808691  43.465008  9.345718  25.776966  23.978970  19.316423   \n",
       "253  25.623768  44.595493  9.553405  25.920429  24.381214  19.540195   \n",
       "254  26.020880  44.926476  9.816154  25.986450  24.629982  19.469889   \n",
       "255  26.226303  44.695282  9.781052  25.606930  24.167477  19.282375   \n",
       "256  26.024481  44.574814  9.853897  25.457603  23.991039  19.045454   \n",
       "\n",
       "           XLU        XLV        XLY  \n",
       "252  21.047405  26.344728  29.322948  \n",
       "253  21.139866  26.814619  29.591909  \n",
       "254  20.883881  26.585705  29.762642  \n",
       "255  20.886683  26.705002  29.325682  \n",
       "256  20.708771  26.487020  29.206799  "
      ]
     },
     "execution_count": 112,
     "metadata": {},
     "output_type": "execute_result"
    }
   ],
   "source": [
    "prediction_5.head()"
   ]
  },
  {
   "cell_type": "code",
   "execution_count": 116,
   "metadata": {},
   "outputs": [
    {
     "data": {
      "text/plain": [
       "<matplotlib.legend.Legend at 0x1b74befd840>"
      ]
     },
     "execution_count": 116,
     "metadata": {},
     "output_type": "execute_result"
    },
    {
     "data": {
      "image/png": "[encoded data removed]",
      "text/plain": [
       "<Figure size 1200x800 with 1 Axes>"
      ]
     },
     "metadata": {},
     "output_type": "display_data"
    }
   ],
   "source": [
    "prediction_5['XLI'].plot(figsize=(12,8), label='Predictions_5')\n",
    "data_for_pred['XLI'].plot(label='True')\n",
    "plt.legend()"
   ]
  },
  {
   "cell_type": "code",
   "execution_count": 118,
   "metadata": {},
   "outputs": [],
   "source": [
    "prediction_5.to_csv('prediction_5.csv')\n",
    "prediction_10.to_csv('prediction_10.csv')\n",
    "prediction_30.to_csv('prediction_30.csv')"
   ]
  },
  {
   "cell_type": "code",
   "execution_count": null,
   "metadata": {},
   "outputs": [],
   "source": []
  }
 ],
 "metadata": {
  "kernelspec": {
   "display_name": "base",
   "language": "python",
   "name": "python3"
  },
  "language_info": {
   "codemirror_mode": {
    "name": "ipython",
    "version": 3
   },
   "file_extension": ".py",
   "mimetype": "text/x-python",
   "name": "python",
   "nbconvert_exporter": "python",
   "pygments_lexer": "ipython3",
   "version": "3.10.9"
  },
  "orig_nbformat": 4
 },
 "nbformat": 4,
 "nbformat_minor": 2
}
